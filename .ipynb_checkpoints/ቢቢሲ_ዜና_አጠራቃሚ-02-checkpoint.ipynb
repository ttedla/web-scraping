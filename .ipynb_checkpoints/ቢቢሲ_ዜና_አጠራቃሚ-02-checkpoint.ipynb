{
 "cells": [
  {
   "cell_type": "markdown",
   "metadata": {},
   "source": [
    "# መግቢያ"
   ]
  },
  {
   "cell_type": "markdown",
   "metadata": {},
   "source": [
    "ከድረገጽ ላይ መረጃ ለመሰብሰብ ጥቅም ላይ ከሚውሉት አንዱ ዌብ ስክራፒንግ አንዱ ነው። በዚህ ክፍል ከ ቢቢሲ የአማርኛ ዜና ላይ ብዙ የተነበቡ ዜናዎችን መሰብሰብ የሚያስችል ዌብ ስክራፐር እንጽፋለን። "
   ]
  },
  {
   "cell_type": "markdown",
   "metadata": {},
   "source": [
    "# አስፈላጊ ጥቅሎች"
   ]
  },
  {
   "cell_type": "markdown",
   "metadata": {},
   "source": [
    "ዌብ ስክራፒንግ ለመስራት የሚያስፈልጉ የፓይተን ጥቅሎች አሉ። እነሱን በመጠቀም እንጽፋለን። "
   ]
  },
  {
   "cell_type": "code",
   "execution_count": 2,
   "metadata": {},
   "outputs": [],
   "source": [
    "# የሚያስፈልጉ ፓይተን ጥቅሎች \n",
    "\n",
    "# ከድረ-ገጽ የንባብ ጥያቄ ለማቅረብ የሚጠቅም ጥቅል\n",
    "# pip install requests \n",
    "import requests\n",
    "\n",
    "#ከድረ-ገጽ ተነቦ የመጣውን ለመተንተን የሚረዳ ጥቅል\n",
    "# apt-get install python3-bs4 (sudo)\n",
    "from bs4 import BeautifulSoup\n",
    "\n",
    "#በመጨረሻ የተገኘውን በኮማ በተነጣጠለ ፋይል ለማስቀመጥ የሚረዳ ጥቅል   \n",
    "import csv\n",
    "\n",
    "#ቀኑን ሰዓቱን እና ዓመተምህረቱን ከፋይል ስማችን ጋር ለማያያዝ የሚጠቅም ጥቅል። \n",
    "import time"
   ]
  },
  {
   "cell_type": "markdown",
   "metadata": {},
   "source": [
    " አስፈላጊ ጥቅሎቹ በኮምፒውተራችሁ ላይ ካልተዋቀሩ፤ ጎግል በማድረግ ማዋቀር ትችላላችሁ። `pip install lxml` ለምሳሌ `lxml` የተባለ ተንታኝ ይጭንልናል። "
   ]
  },
  {
   "cell_type": "markdown",
   "metadata": {},
   "source": [
    "# ድረ-ገጹን መለየት"
   ]
  },
  {
   "cell_type": "markdown",
   "metadata": {},
   "source": [
    "የቢቢስ ድረ-ገጽ [በብዛት የተነበቡ ዜናዎችን](https://www.bbc.com/amharic/popular/read) የሚዘረዝርበት ገጽ አለ። ከ እሱ ገጽ ላይ በተፈለገው ቀን (በየቀኑ፣ በየ3ት ቀኑ፣ በየሳምንቱ) ዊሂብ መሰብሰብ የሚያስችል ፕሮግራም እንጽፋለን። "
   ]
  },
  {
   "cell_type": "code",
   "execution_count": 3,
   "metadata": {},
   "outputs": [],
   "source": [
    "# የድረገጽ ምንጫችንን ለይተን በተለዋዋጭ ላይ እናስቀምጠው። \n",
    "ድረ_ገጽ = \"https://www.bbc.com/amharic/popular/read\"\n",
    "#ይሄንን ድረ-ገጽ ብንከፍት በሰዓቱ በከፍተኛ መጠን የተነበቡ 10 ዜናዎችን ይዘረዝራል። "
   ]
  },
  {
   "cell_type": "markdown",
   "metadata": {},
   "source": [
    "# ድረ-ገጹን ማንበብ"
   ]
  },
  {
   "cell_type": "markdown",
   "metadata": {},
   "source": [
    "ድረ-ገጹን ለማንበብ `requests.get()`ን እንጠቀማለን። ይሄ ተግባር ከድረ-ገጹ በሚያገኘው መረጃ መሰረት መልስ ይዞ ይመጣል። ወይም በተለዋዋጭ ላይ መልሱን ካስቀመጥነው፤ የተመለሰውን አትመን መመልከት እንችላለን። "
   ]
  },
  {
   "cell_type": "code",
   "execution_count": 4,
   "metadata": {},
   "outputs": [],
   "source": [
    "# የድረ-ገጽ ምንጫችን ላይ የንባብ ጥያቄ እናቅርብ \n",
    "የንባብ_ጥያቄ = requests.get(ድረ_ገጽ)"
   ]
  },
  {
   "cell_type": "code",
   "execution_count": 5,
   "metadata": {},
   "outputs": [
    {
     "data": {
      "text/plain": [
       "<Response [200]>"
      ]
     },
     "execution_count": 5,
     "metadata": {},
     "output_type": "execute_result"
    }
   ],
   "source": [
    "የንባብ_ጥያቄ"
   ]
  },
  {
   "cell_type": "markdown",
   "metadata": {},
   "source": [
    "ላቀረብነው የ ንባብ (የጌት) ጥያቄ መሳካቱን የሚገልጽ ቁጥር ነው `200`፣ የሁኔታ ገላጭ የሆኑ የመልስ ቁጥሮችን በዝርዝር [እዚህ](https://www.w3.org/Protocols/rfc2616/rfc2616-sec10.html) ተመልከቱ። "
   ]
  },
  {
   "cell_type": "markdown",
   "metadata": {},
   "source": [
    "# የድረ-ገጹን ጽሑፍ በተለዋዋጭ ማስቀመጥ"
   ]
  },
  {
   "cell_type": "markdown",
   "metadata": {},
   "source": [
    "ከድረገጹ ላይ ጽሑፉን እንዲመልስልን፣ ጥያቄውን ስናቀርብ በነባሪው ያለውን የሁኔታ ገላጭ ቁጥር ሳይሆን ጽሑፍ በድረ-ገጹ ላይ ያለውን ጽሑፍ እንዲመልስልን መጠየቅ እንችላለን። "
   ]
  },
  {
   "cell_type": "code",
   "execution_count": 6,
   "metadata": {},
   "outputs": [],
   "source": [
    "# የንባብ ጥያቄያችን ጽሑፍ እንዲመልስልን መጠየቅ \n",
    "የንባብ_ጥያቄ = requests.get(ድረ_ገጽ).text"
   ]
  },
  {
   "cell_type": "markdown",
   "metadata": {},
   "source": [
    "`የንባብ_ጥያቄ`ን ተለዋዋጭ አትመን ብንመለከተው በድረ-ገጹ ላይ ያለውን ማንኛውንም ጽሑፍ የድረ-ገጽ መለያ ምልክቶችን ሳይቀር አያይዞ ይመልስልናል። "
   ]
  },
  {
   "cell_type": "markdown",
   "metadata": {},
   "source": [
    "# ለትንተና ማዘጋጀት"
   ]
  },
  {
   "cell_type": "markdown",
   "metadata": {},
   "source": [
    "ያነበብነውን ጽሑፍ ሳንካ ሊኖርበት ይችላል። ለምሳሌ የተከፈተ የመለያ ምልክት(ታግ) በአግባቡ ላይዘጋ ይችላል (ኤችቲኤሜል) እንዲሁም ተጨማሪ ትንተናዎችን ለማድረግ ለእይታ እንድመች `BeautifulSoup` እና `lxml`ን በመጠቀም ጽሑፉን ለትንተና እናዘጋጅ።  "
   ]
  },
  {
   "cell_type": "code",
   "execution_count": 8,
   "metadata": {},
   "outputs": [],
   "source": [
    "#ጽሑፉን ለትንተና ማዘጋጀት \n",
    "# lxml ተንታኝ (ፓርሰር) ነው። \n",
    "የተዘጋጀ_ጽሑፍ = BeautifulSoup(የንባብ_ጥያቄ, 'lxml')"
   ]
  },
  {
   "cell_type": "markdown",
   "metadata": {},
   "source": [
    "`የተዘጋጀ_ጽሑፍ` የሚለውን ተለዋዋጭ ብንመለከት በገጹ ያለውን ሁሉንም ይዟል። ነገር ግን የምንፈልጋቸውን ዜናዎች የያዘው `li class=\"most-popular-list-item\"`  በሚል የመለያ ምልክት ወይም ታግ ነው። ስለዚህ እሱን ለይተን እንወስዳለን። "
   ]
  },
  {
   "cell_type": "code",
   "execution_count": 10,
   "metadata": {},
   "outputs": [],
   "source": [
    "# ብዙ ግዜ የተነበቡ ዜናዎችን ለመለየት \n",
    "ብዙ_ግዜ_የተነበቡ= የተዘጋጀ_ጽሑፍ.find('li', class_='most-popular-list-item')"
   ]
  },
  {
   "cell_type": "code",
   "execution_count": 11,
   "metadata": {},
   "outputs": [
    {
     "data": {
      "text/plain": [
       "<li class=\"most-popular-list-item\" data-entityid=\"most-popular-read#1\">\n",
       "<a class=\"most-popular-list-item__link \" href=\"/amharic/news-47177340\">\n",
       "<span class=\"most-popular-list-item__rank\">1</span>\n",
       "<span class=\"most-popular-list-item__headline\">እነ አቶ በረከት በማረሚያ ቤቱ ኢንተርኔት የለም ሲሉ ለፍርድ ቤት ተናገሩ</span>\n",
       "</a>\n",
       "</li>"
      ]
     },
     "execution_count": 11,
     "metadata": {},
     "output_type": "execute_result"
    }
   ],
   "source": [
    "#ብዙ_ግዜ_የተነበቡ የተነበቡ የሚለው ተለዋዋጭ የመጀመሪያውን ዜና ይይዛል።  \n",
    "ብዙ_ግዜ_የተነበቡ"
   ]
  },
  {
   "cell_type": "code",
   "execution_count": 12,
   "metadata": {},
   "outputs": [],
   "source": [
    "#ርዕሱን ለይተን ማውጣት ብንፈልግ \n",
    "# ከላይ በውጤቱ እንደተመለከትነው ርዕሱ የሚገኘው \n",
    "#\"span class=\"most-popular-list-item__headline\" በሚለው ታግ ውስጥ ነው \n",
    "ርዕስ=ብዙ_ግዜ_የተነበቡ.find('span', class_='most-popular-list-item__headline').text"
   ]
  },
  {
   "cell_type": "code",
   "execution_count": 13,
   "metadata": {},
   "outputs": [
    {
     "name": "stdout",
     "output_type": "stream",
     "text": [
      "እነ አቶ በረከት በማረሚያ ቤቱ ኢንተርኔት የለም ሲሉ ለፍርድ ቤት ተናገሩ\n"
     ]
    }
   ],
   "source": [
    "# ርዕሱን ለማየት \n",
    "print(ርዕስ)"
   ]
  },
  {
   "cell_type": "code",
   "execution_count": 14,
   "metadata": {},
   "outputs": [],
   "source": [
    "# በተመሳሳይ ደረጃውን ለይተን ማየት ብንፈልግ \n",
    "# ደረጃን የያዘው ምልክት ታግ \n",
    "# pan class=\"most-popular-list-item__rank የሚለው ነው \n",
    "ደረጃ = ብዙ_ግዜ_የተነበቡ.find('span', class_='most-popular-list-item__rank').text"
   ]
  },
  {
   "cell_type": "code",
   "execution_count": 15,
   "metadata": {},
   "outputs": [
    {
     "name": "stdout",
     "output_type": "stream",
     "text": [
      "1\n"
     ]
    }
   ],
   "source": [
    "#ደረጃውን ለማየት \n",
    "print(ደረጃ)"
   ]
  },
  {
   "cell_type": "code",
   "execution_count": 16,
   "metadata": {},
   "outputs": [],
   "source": [
    "# መረጃው የሚገኝበትን ገጽ ጠቋሚ በ  \n",
    "# a class=\"most-popular-list-item__link ተመልክቷል \n",
    "ገጽ_ጠቋሚ = ብዙ_ግዜ_የተነበቡ.find('a', class_='most-popular-list-item__link')['href']"
   ]
  },
  {
   "cell_type": "code",
   "execution_count": 17,
   "metadata": {},
   "outputs": [
    {
     "data": {
      "text/plain": [
       "'/amharic/news-47177340'"
      ]
     },
     "execution_count": 17,
     "metadata": {},
     "output_type": "execute_result"
    }
   ],
   "source": [
    "# ገጽ_ጠቋሚውን ብንመለከት \n",
    "ገጽ_ጠቋሚ"
   ]
  },
  {
   "cell_type": "code",
   "execution_count": 18,
   "metadata": {},
   "outputs": [],
   "source": [
    "# /amharic/news-47177340 ወደትክክለኛው ገጽ የሚወስደን ከውስጥ ሆነን ስንጠቀመው ነው። \n",
    "# ስለሆነም ከፊቱ https://www.bbc.com መጨመር ይኖርብናል \n",
    "ተደራሽ_ጠቋሚ = f'https://www.bbc.com{ገጽ_ጠቋሚ}'"
   ]
  },
  {
   "cell_type": "code",
   "execution_count": 19,
   "metadata": {},
   "outputs": [
    {
     "data": {
      "text/plain": [
       "'https://www.bbc.com/amharic/news-47177340'"
      ]
     },
     "execution_count": 19,
     "metadata": {},
     "output_type": "execute_result"
    }
   ],
   "source": [
    "#ተደራሽ ጠቋሚውን ገልብጠን በብራውዘራችን ላይ ብንገለብጠው የዜናውን ጽሁፍ ይከፍትልናል። \n",
    "ተደራሽ_ጠቋሚ"
   ]
  },
  {
   "cell_type": "markdown",
   "metadata": {},
   "source": [
    "# ተጨማሪ ትንተና"
   ]
  },
  {
   "cell_type": "markdown",
   "metadata": {},
   "source": [
    "ተደራሽ ጠቋሚውን በመጠቀም ጽሑፉን እና መቼ እንደታተመ ማየት እንችላለን ማለት ነው። "
   ]
  },
  {
   "cell_type": "code",
   "execution_count": 20,
   "metadata": {},
   "outputs": [],
   "source": [
    "# ከላይ የተጠቀምነውን መድገም ነው \n",
    "የዜና_ማግኛ = requests.get(ተደራሽ_ጠቋሚ).text"
   ]
  },
  {
   "cell_type": "code",
   "execution_count": 22,
   "metadata": {},
   "outputs": [],
   "source": [
    "# የዜና ማግኛውን ለማሳመር እና ሳንካዎችን ለማስተካከል (ካሉ ማለት ነው)\n",
    "የተዘጋጀ_ዜና = BeautifulSoup(የዜና_ማግኛ, 'lxml')"
   ]
  },
  {
   "cell_type": "code",
   "execution_count": 24,
   "metadata": {},
   "outputs": [],
   "source": [
    "# የተዘጋጀ ዜናውን ምንጩን ከፍቶ መመልከት \n",
    "# div እና class=story-body የዜና ጽሑፉ የሚገኝበት ነው። \n",
    "የዜና_ጽሑፍ = የተዘጋጀ_ዜና.find('div', class_='story-body')"
   ]
  },
  {
   "cell_type": "code",
   "execution_count": 26,
   "metadata": {},
   "outputs": [],
   "source": [
    "# የዜና_ጽሑፍን በመጠቀም ዜናው የተጻፈበትን ቀን እና ዜናውን መለየት ይቻላል\n",
    "# መሰረታዊው ነገር የሚገኙበትን የመለያ ምልክት ከምንጩ መመልከት ነው። \n",
    "ቀን= የዜና_ጽሑፍ.find('div', class_='date').text"
   ]
  },
  {
   "cell_type": "code",
   "execution_count": 27,
   "metadata": {},
   "outputs": [
    {
     "data": {
      "text/plain": [
       "'8 ፌብሩወሪ 2019'"
      ]
     },
     "execution_count": 27,
     "metadata": {},
     "output_type": "execute_result"
    }
   ],
   "source": [
    "# ቀኑን ማየት \n",
    "ቀን"
   ]
  },
  {
   "cell_type": "code",
   "execution_count": 28,
   "metadata": {},
   "outputs": [],
   "source": [
    "# የዜና_ጽሑፍን በመጠቀም ዜናውን ለማንበብ\n",
    "# መሰረታዊው ነገር የሚገኙበትን የመለያ ምልክት ከምንጩ መመልከት ነው። \n",
    "ዜና = የዜና_ጽሑፍ.find('div', class_='story-body__inner').text"
   ]
  },
  {
   "cell_type": "code",
   "execution_count": 31,
   "metadata": {},
   "outputs": [
    {
     "data": {
      "text/plain": [
       "'\\n\\n\\n\\nImage copyright\\nGetty Images\\n\\nበጥረት ኮርፖሬት የሃብት ብክነት የተጠረጠሩት አቶ በረከት ስምኦንና አቶ ታደሰ ካሣ ዛሬ በባህር ዳርና አካባቢዋ ፍርድ ቤት ቀርበዋል።የአማራ ክልል ፀረ ሙስና ኮሚሽን መርማሪ ባለፈው በተሰጠው የጊዜ ቀጠሮ ማስረጃዎችን ማየቱንና የምስክሮችን ቃል መቀበሉን አሳውቋል።ሆኖም ጉዳዩ ከባድ፣ ውስብስብና ድንበር ተሻጋሪ ከመሆኑም በላይ ምስክሮች እና ሰነዶች በሃገር ውስጥ እና ከሃገር ውጪ መገኘታቸውን አስታውሶ ምርመራውን አለማጠናቀቁን አስታውቋል። • በረከት ስምኦን ከየት ተነስተው እዚህ ደረሱ ከዚህ ተጨማሪ የ14 ቀን የጊዜ ቀጠሮ እንዲሰጠው ጠይቋል። የሕግ ሥልጣን በሌለው አካል መከሰሰሳቸውን የጠቀሱት አቶ በረከት ሰምኦን ተጨማሪ የጊዜ ቀጠሮው ውድቅ አንዲሆን ጠይቀው ነበር።የዳሽን ቢራ ሁሉም ሰነዶች ተሟልተው እንደሚገኙ የተናገሩት አቶ ታደሰ ካሣ በበኩላቸው መነግሥት አስረን አናጣራም፤ አጣርተን ነው የምናስረው ማለቱን ጠቅሰው የተጠየቀው የጊዜ ቀጠሮ አነሱን በእስር ለማቆየት ብቻ መሆኑን በመጠቆም ውድቅ አንዲሆን ጠይቀዋል። የግራ ቀኙን የተመለከተው ፍርድ ቤቱ የጉዳዩን ውስብስብነትና መረጃዎች በሃገር ውስጥም ሆነ በውጭ መገኘታቸውን ከግምት በማስገባት የ14 ቀን ጊዜ ቀጠሮውን ፈቅዷል።• አቶ በረከት ስምኦን እና አቶ ታደሰ ካሳ ወደ ባህር ዳር ተወሰዱ • አቶ በረከት ስምኦን ከብአዴን ማእከላዊ ኮሚቴ አባልነት ታገዱአቶ በረከት ስንገባም ስንወጣም አየተሰደብንና ስማችን እየጎደፈ ነው ብለዋል። ጠበቃ ማግኘት ባለመቻላቸው ፍርድ ቤቱ እንዲያቆምላቸውና ከቤተሰባቸው ጋር የመገናኘት ዕድል እንዲመቻችላቸው ጠይቀዋል።በተጨማሪም ተከሳሾቹ በማረሚያ ቤት ለመፃፍ የሚያስችላቸው ኮምፒዩተር እንዲገባላቸው ጠይቀዋል። አቶ በረከት በማረሚያ ቤት ውስጥ ኢንተርኔት የለም ሲሉም ተደምጠዋል።  የሚደርስባቸውን ዘለፋ በተመለከተ ፍርድ ቤቱ ከፀጥታ አካላት ጋር በመሆን የሚደርስባቸውን ዘለፋ ለማስቆም እንደሚሰራ አስታውቋል። \\n'"
      ]
     },
     "execution_count": 31,
     "metadata": {},
     "output_type": "execute_result"
    }
   ],
   "source": [
    "#ዜናውን ለማንበብ \n",
    "ዜና"
   ]
  },
  {
   "cell_type": "markdown",
   "metadata": {},
   "source": [
    "***\n",
    "ዜናውን እንዳስፈላጊነቱ ማጽዳት ይቻላል። ምሳሌ `ዜና.strip('\\n')` የተቀጠሉትን \\n ያስወግዳል። \n",
    "***"
   ]
  },
  {
   "cell_type": "markdown",
   "metadata": {},
   "source": [
    "# ሁሉንም ዜና ማንበብ"
   ]
  },
  {
   "cell_type": "markdown",
   "metadata": {},
   "source": [
    "ከላይ ባለው ፕሮግራም ያነበብነው የመጀመሪያውን ዜና ብቻ ነው። ይሄም ሊሆን የቻለው ማግኛውን ያዘዝነው የመጀመሪያውን ዝርዝር እንዲጠራልን ብቻ ስለሆነ ነው። ሁሉንም ዝርዝሮች እንዲጠራልን እንደሚከተለው ማዘዝ እንችላለን።  "
   ]
  },
  {
   "cell_type": "code",
   "execution_count": null,
   "metadata": {},
   "outputs": [],
   "source": [
    "# ሁሉንም የዜና ዝርዝር እንዲጠራልን\n",
    "# find የሚለውን ወደ find_all መቀየር \n",
    "ብዙ_ግዜ_የተነበቡ= የተዘጋጀ_ጽሑፍ.find_all('li', class_='most-popular-list-item')"
   ]
  }
 ],
 "metadata": {
  "kernelspec": {
   "display_name": "Python 3",
   "language": "python",
   "name": "python3"
  },
  "language_info": {
   "codemirror_mode": {
    "name": "ipython",
    "version": 3
   },
   "file_extension": ".py",
   "mimetype": "text/x-python",
   "name": "python",
   "nbconvert_exporter": "python",
   "pygments_lexer": "ipython3",
   "version": "3.6.7"
  }
 },
 "nbformat": 4,
 "nbformat_minor": 2
}
