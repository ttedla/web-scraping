{
 "cells": [
  {
   "cell_type": "markdown",
   "metadata": {},
   "source": [
    "# መግቢያ"
   ]
  },
  {
   "cell_type": "markdown",
   "metadata": {},
   "source": [
    "በክፍል አንድ የተመለከትነውን ተግባር እየጻፍን ዜና አውራጁን በፋይል እናስቀምጥ። "
   ]
  },
  {
   "cell_type": "markdown",
   "metadata": {},
   "source": [
    "# አስፈላጊ ጥቅሎች"
   ]
  },
  {
   "cell_type": "code",
   "execution_count": 1,
   "metadata": {},
   "outputs": [],
   "source": [
    "# የሚያስፈልጉ ፓይተን ጥቅሎች \n",
    "# ከድረ-ገጽ የንባብ ጥያቄ ለማቅረብ የሚጠቅም ጥቅል\n",
    "# pip install requests \n",
    "import requests\n",
    "#ከድረ-ገጽ ተነቦ የመጣውን ለመተንተን የሚረዳ ጥቅል\n",
    "# apt-get install python3-bs4 (sudo)\n",
    "from bs4 import BeautifulSoup\n",
    "#በመጨረሻ የተገኘውን በኮማ በተነጣጠለ ፋይል ለማስቀመጥ የሚረዳ ጥቅል   \n",
    "import csv\n",
    "#ቀኑን ሰዓቱን እና ዓመተምህረቱን ከፋይል ስማችን ጋር ለማያያዝ የሚጠቅም ጥቅል። \n",
    "import time\n",
    "# የምንጽፈው ፋይል ስም ላይ ተቀጣይ ጊዜ ለማስገባት \n",
    "ጊዜ=time.strftime(\"%Y-%b-%d__%H_%M_%S\",time.localtime())"
   ]
  },
  {
   "cell_type": "markdown",
   "metadata": {},
   "source": [
    "# ጠያቂ ተግባር"
   ]
  },
  {
   "cell_type": "markdown",
   "metadata": {},
   "source": [
    "ጠያቂ ተግባር ስራው የመጣለትን የድረገጽ አድራሻ አንብቦ የተዘጋጀ ጽሑፍ መመለስ ነው። ለዚህ ስራ በቅንጅት የሚሰሩ ሁለት ተግባራትን እንጠቀማለን። "
   ]
  },
  {
   "cell_type": "code",
   "execution_count": 12,
   "metadata": {},
   "outputs": [],
   "source": [
    "# ጠያቂ ተግባር \n",
    "def ጥያቄ_አቅርብ(አድራሻ):\n",
    "    \"\"\" የመጣለትን አድራሻ ተቀብሎ ጥያቄ የሚያቀርብ ነው። የሚመልሰውም ለትንተና የተዘጋጀ ጽሑፍ ነው\"\"\"\n",
    "    return ለትንተና_አዘጋጅ(requests.get(አድራሻ).text)\n",
    "\n",
    "def ለትንተና_አዘጋጅ(አድራሻ):\n",
    "    \"\"\" ከጥያቄ_አቅርብ ጋር በቅንጅት የሚሰራ ተግባር\"\"\"\n",
    "    return BeautifulSoup(አድራሻ, 'lxml')"
   ]
  },
  {
   "cell_type": "markdown",
   "metadata": {},
   "source": [
    "# ርዕስ የሚፈልግ ተግባር"
   ]
  },
  {
   "cell_type": "markdown",
   "metadata": {},
   "source": [
    "ርዕስ ፈልግ ተግባር ስራው ለትንተና ከተዘጋጀው ጽሑፍ ውስጥ የዜና ርዕሱን መፈለግ ነው። "
   ]
  },
  {
   "cell_type": "code",
   "execution_count": 4,
   "metadata": {},
   "outputs": [],
   "source": [
    "# ርዕስ የሚፈልግ ተግባር \n",
    "def ርዕስ_ፈልግ(ጽሑፍ):\n",
    "    \"\"\" ከጽሑፉ ውስት ርዕስ የሚፈልግ ተግባር\"\"\"\n",
    "    return ጽሑፍ.find('span', class_='most-popular-list-item__headline').text"
   ]
  },
  {
   "cell_type": "markdown",
   "metadata": {},
   "source": [
    "# ደረጃ የሚፈልግ ተግባር"
   ]
  },
  {
   "cell_type": "markdown",
   "metadata": {},
   "source": [
    "ደረጃ የሚፈልግ ተግባር ዋና ስራው የዜናዎቹን የተነባቢነት ደረጃ ከድረ-ገጹ ላይ ለይቶ ማሳየት ነው። "
   ]
  },
  {
   "cell_type": "code",
   "execution_count": null,
   "metadata": {},
   "outputs": [],
   "source": [
    "# ደረጃ የሚፈልግ ተግባር \n",
    "def ደረጃ_ፈልግ(ዜና):\n",
    "    \"\"\"ደረጃ የሚፈልግ ተግባር\"\"\"\n",
    "    return ዜና.find('span', class_='most-popular-list-item__rank').text"
   ]
  },
  {
   "cell_type": "markdown",
   "metadata": {},
   "source": [
    "# አድራሻ ፈላጊ ተግባር"
   ]
  },
  {
   "cell_type": "markdown",
   "metadata": {},
   "source": [
    "አድራሻ ፈላጊ ተግባር ስራው ከጽሑፍ ውስት ዜናው የሚገኝበትን የድረ-ገጽ አድራሻ መፈለግ ነው። "
   ]
  },
  {
   "cell_type": "code",
   "execution_count": 8,
   "metadata": {},
   "outputs": [],
   "source": [
    "# አድራሻ ፈላጊ ተግባር \n",
    "def አድራሻ_ፈልግ(ዜና):\n",
    "    \"\"\" አድራሻ ፈልጎ ተደራሽ በሆነ መልኩ የሚመልስ ተግባር \"\"\"\n",
    "    የዜና_አድራሻ = ዜና.find('a', class_='most-popular-list-item__link')['href']\n",
    "    return f'https://www.bbc.com{የዜና_አድራሻ}'"
   ]
  },
  {
   "cell_type": "markdown",
   "metadata": {},
   "source": [
    "# ቀን የሚፈልግ ተግባር"
   ]
  },
  {
   "cell_type": "markdown",
   "metadata": {},
   "source": [
    "ቀን የሚፈልገው ተግባር ዓላማው ዜናው የተጻፈበትን ቀን ከዜናው ፈልጎ የሚያመጣ ነው። "
   ]
  },
  {
   "cell_type": "code",
   "execution_count": 9,
   "metadata": {},
   "outputs": [],
   "source": [
    "# ቀን የሚፈልግ ተግባር \n",
    "def ቀን_ፈልግ(ዜና):\n",
    "    \"\"\"ቀን ፈልጎ የሚያመጣ ተግባር\"\"\"\n",
    "    return ዜና.find('div', class_='date').text"
   ]
  },
  {
   "cell_type": "markdown",
   "metadata": {},
   "source": [
    "# የዜና ጽሑፉን የሚፈልግ ተግባር"
   ]
  },
  {
   "cell_type": "markdown",
   "metadata": {},
   "source": [
    "የዜና ጽሑፉን የሚፈልግ ተግባር ዋና አላማው የዜናውን ጽሑፍ ማሳየት ነው። "
   ]
  },
  {
   "cell_type": "code",
   "execution_count": 10,
   "metadata": {},
   "outputs": [],
   "source": [
    "# የዜናውን ጽሑፍ የሚፈልግ ተግባር \n",
    "def ዜና_ጽሑፍ(ዜና):\n",
    "    \"\"\" የዜና ጽሑፉን የሚያሳይ ተግባር\"\"\"\n",
    "    return ዜና.find('div', class_='story-body__inner').text"
   ]
  },
  {
   "cell_type": "markdown",
   "metadata": {},
   "source": [
    "# ዜናውን አንብቦ ወደፋይል የሚጽፈው"
   ]
  },
  {
   "cell_type": "code",
   "execution_count": 15,
   "metadata": {},
   "outputs": [],
   "source": [
    "ብዙ_የተነበቡ_10 = open('ሙከራ'+ጊዜ+'.csv', 'w')\n",
    "ሲኤስቪ_ጸሐፊ = csv.writer(ብዙ_የተነበቡ_10)\n",
    "ሲኤስቪ_ጸሐፊ.writerow(['ደረጃ', 'ርዕስ', 'ቀን', 'ዜና','ድረ-ገጽ'])\n",
    "\n",
    "#፲ በጣም የተነበቡ ዜናዎች የሚገኙበት የድረ-ገጽ ጠቋሚ አድራሻ \n",
    "አድራሻ = \"https://www.bbc.com/amharic/popular/read\"\n",
    "\n",
    "#ጥያቄ_አቅርብ ለሚለው ተግባር አድራሻ እንላክለት \n",
    "የተዘጋጀ_ዜና =ጥያቄ_አቅርብ(አድራሻ)\n",
    "for ተነባቢ in የተዘጋጀ_ዜና.find_all('li', class_='most-popular-list-item'):\n",
    "    try:\n",
    "        ርዕስ=ርዕስ_ፈልግ(ተነባቢ)\n",
    "        ደረጃ = ደረጃ_ፈልግ(ተነባቢ)\n",
    "        ማግኛ_አድራሻ = አድራሻ_ፈልግ(ተነባቢ)\n",
    "        # በማግኛ አድራሻ ላይ ያገኘነውን በመጠቀም ዜናውን እንፈልግ \n",
    "        የዜና_መነሻ = ጥያቄ_አቅርብ(ማግኛ_አድራሻ)\n",
    "        ዜናው = የዜና_መነሻ.find('div', class_='story-body')\n",
    "        የዜናው_ቀን = ቀን_ፈልግ(ዜናው)\n",
    "        ጽሑፉ = ዜና_ጽሑፍ(ዜናው)\n",
    "        #print(ርዕስ, ደረጃ, ማግኛ_አድራሻ, የዜናው_ቀን, ጽሑፉ, sep='\\n')\n",
    "        #print()\n",
    "        ሲኤስቪ_ጸሐፊ.writerow([ደረጃ, ርዕስ, የዜናው_ቀን, ጽሑፉ, ማግኛ_አድራሻ])\n",
    "    # ይሔ የሚጠቅመው ድንገት ለሚፈጠር ሳንካ ተለዋዋጮቹ እሴት እንዲያገኙ ያደርጋል። \n",
    "    except Exception as e:\n",
    "        ርዕስ = None\n",
    "        ደረጃ = None\n",
    "        ማግኛ_አድራሻ=None\n",
    "        የዜናው_ቀን=None\n",
    "        ጽሑፉ=None\n",
    "# ፋይሉን መዝጋት \n",
    "ብዙ_የተነበቡ_10.close() "
   ]
  },
  {
   "cell_type": "markdown",
   "metadata": {},
   "source": [
    "# መጠቃለያ"
   ]
  },
  {
   "cell_type": "markdown",
   "metadata": {},
   "source": [
    "ፕሮግራሙን በመጠቀም ለተለያዩ የምርምር ስራ ሊውል የሚችል ዜና ከቢቢ ድረ-ገጽ ላይ ማጠራቀም ትችላላችሁ ማለት ነው። `python bbc_amharic_scraper.py` የሚለውን ፕሮግራም በተወሰነ ቀናት ልዩነት እያሮጣችሁ ዜናዎችን ለምርምር እንዲሆናችሁ መሰብሰብ ትችላላችሁ። "
   ]
  },
  {
   "cell_type": "code",
   "execution_count": null,
   "metadata": {},
   "outputs": [],
   "source": []
  }
 ],
 "metadata": {
  "kernelspec": {
   "display_name": "Python 3",
   "language": "python",
   "name": "python3"
  },
  "language_info": {
   "codemirror_mode": {
    "name": "ipython",
    "version": 3
   },
   "file_extension": ".py",
   "mimetype": "text/x-python",
   "name": "python",
   "nbconvert_exporter": "python",
   "pygments_lexer": "ipython3",
   "version": "3.6.7"
  }
 },
 "nbformat": 4,
 "nbformat_minor": 2
}
